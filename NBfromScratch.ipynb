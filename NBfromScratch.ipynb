{
 "cells": [
  {
   "cell_type": "code",
   "execution_count": 569,
   "id": "b7fe066d-93a5-431a-96e9-dd6650fb2773",
   "metadata": {},
   "outputs": [],
   "source": [
    "import random\n",
    "import numpy as np\n",
    "import pandas as pd\n",
    "import matplotlib.pyplot as plt\n",
    "from collections import Counter, defaultdict"
   ]
  },
  {
   "cell_type": "code",
   "execution_count": 554,
   "id": "0a3f4e90-995a-4b14-b17e-61a37eafa6a9",
   "metadata": {},
   "outputs": [],
   "source": [
    "np.random.seed(12)\n",
    "num_observations, num_features = 200, 100\n",
    "\n",
    "x1 = np.random.randint(low =0, high = 3, size=(num_observations, num_features))\n",
    "y = np.random.randint(low =0, high = 2, size=(num_observations, 1))"
   ]
  },
  {
   "cell_type": "code",
   "execution_count": 555,
   "id": "15f4a11e-1036-43b7-8171-398b8fe5f25b",
   "metadata": {},
   "outputs": [],
   "source": [
    "# calculate prior \n",
    "prior0, prior1 = len(y[np.where(y==0)])/len(y), len(y[np.where(y==1)])/len(y)"
   ]
  },
  {
   "cell_type": "code",
   "execution_count": 556,
   "id": "372a08b1-61a4-462d-a1fd-fa50002201fa",
   "metadata": {},
   "outputs": [
    {
     "data": {
      "text/plain": [
       "((200, 100), (200, 1), 97.0, 103.0, (2, 97, 100), (2, 103, 100))"
      ]
     },
     "execution_count": 556,
     "metadata": {},
     "output_type": "execute_result"
    }
   ],
   "source": [
    "# comfirm the prior \n",
    "x1.shape, y.shape, prior0*num_observations, prior1*num_observations, x1[np.where(y==0), :].shape, x1[np.where(y==1), :].shape"
   ]
  },
  {
   "cell_type": "code",
   "execution_count": 570,
   "id": "b1cdbc95-87f6-4728-9641-7875412c3d1e",
   "metadata": {},
   "outputs": [],
   "source": [
    "## calculate likelihood\n",
    "likelihood = defaultdict(dict)\n",
    "\n",
    "for c in np.unique(y):\n",
    "    for f in range(x1.shape[1]):\n",
    "        subset = x1[np.where(y==c)[0]][:,f]\n",
    "        labels = np.unique(x1[:,f])\n",
    "        for l in labels:\n",
    "            likelihood[(c, f, l)] = np.apply_along_axis(lambda x, y: np.count_nonzero(x==l)/y, 0, subset, subset.shape[0])"
   ]
  },
  {
   "cell_type": "code",
   "execution_count": 571,
   "id": "0d367f00-925f-4f62-b339-9edd4d24c54b",
   "metadata": {},
   "outputs": [
    {
     "data": {
      "text/plain": [
       "600"
      ]
     },
     "execution_count": 571,
     "metadata": {},
     "output_type": "execute_result"
    }
   ],
   "source": [
    "len(likelihood.keys())"
   ]
  },
  {
   "cell_type": "code",
   "execution_count": 572,
   "id": "dd2bf7d9-0d39-4999-a1e2-934c21367ed6",
   "metadata": {},
   "outputs": [],
   "source": [
    "## calculate the posterior prob\n",
    "res = defaultdict(list)\n",
    "\n",
    "for c in np.unique(y):       \n",
    "    for idx in range(x1.shape[0]):\n",
    "        if c == 1:\n",
    "            prod_ = prior1\n",
    "            evidence = prior0\n",
    "            e = 0\n",
    "        else:\n",
    "            prod_ = prior0\n",
    "            evidence = prior1\n",
    "            e = 1\n",
    "        item= x1[idx]\n",
    "        for col in range(len(item)):\n",
    "            prod_ *= likelihood[(c, col, item[col])]\n",
    "            evidence *= likelihood[(e, col, item[col])]\n",
    "        \n",
    "        res[idx].append(prod_/ (evidence + prod_))\n"
   ]
  },
  {
   "cell_type": "code",
   "execution_count": 573,
   "id": "f471b896-68d8-4e79-ad1c-36fc393f0c0f",
   "metadata": {},
   "outputs": [],
   "source": [
    "# confirmation\n",
    "from sklearn.naive_bayes import CategoricalNB\n",
    "clf = CategoricalNB()\n",
    "clf.fit(x1, y.reshape(y.shape[0],))\n",
    "clf_ans = clf.predict(x1)"
   ]
  },
  {
   "cell_type": "code",
   "execution_count": 574,
   "id": "6488e906-38b1-4e4f-8cc5-d232ac34f1ab",
   "metadata": {},
   "outputs": [
    {
     "data": {
      "text/plain": [
       "(0.00039072554417151343, 0.9996092744558326)"
      ]
     },
     "execution_count": 574,
     "metadata": {},
     "output_type": "execute_result"
    }
   ],
   "source": [
    "# range of original calculation\n",
    "(np.min(clf.predict_proba(x1)), np.max(clf.predict_proba(x1)))"
   ]
  },
  {
   "cell_type": "code",
   "execution_count": 575,
   "id": "6192b2be-adfd-49f0-941b-5bab4a6da858",
   "metadata": {},
   "outputs": [],
   "source": [
    "# get the final category\n",
    "calculated_ans = np.argmax(np.array(list(res.values())),axis=1)"
   ]
  },
  {
   "cell_type": "code",
   "execution_count": 576,
   "id": "afd72e04-8a49-4bb4-9f5c-3b8564fc26c7",
   "metadata": {},
   "outputs": [
    {
     "data": {
      "text/plain": [
       "array([ True,  True,  True,  True,  True,  True,  True,  True,  True,\n",
       "        True,  True,  True,  True,  True,  True,  True,  True,  True,\n",
       "        True,  True,  True,  True,  True,  True,  True,  True,  True,\n",
       "        True,  True,  True,  True,  True,  True,  True,  True,  True,\n",
       "        True,  True,  True,  True,  True,  True,  True,  True,  True,\n",
       "        True,  True,  True,  True,  True,  True,  True,  True,  True,\n",
       "        True,  True,  True,  True,  True,  True,  True,  True,  True,\n",
       "        True,  True,  True,  True,  True,  True,  True,  True,  True,\n",
       "        True,  True,  True,  True,  True,  True,  True,  True,  True,\n",
       "        True,  True,  True,  True,  True,  True,  True,  True,  True,\n",
       "        True,  True,  True,  True,  True,  True,  True,  True,  True,\n",
       "        True,  True,  True,  True,  True,  True,  True,  True,  True,\n",
       "        True,  True,  True,  True,  True,  True,  True,  True,  True,\n",
       "        True,  True,  True,  True,  True,  True,  True,  True,  True,\n",
       "        True,  True,  True,  True,  True,  True,  True,  True,  True,\n",
       "        True,  True,  True,  True,  True,  True,  True,  True,  True,\n",
       "        True,  True,  True,  True,  True,  True,  True,  True,  True,\n",
       "        True,  True,  True,  True,  True,  True,  True,  True,  True,\n",
       "        True,  True,  True,  True,  True,  True,  True,  True,  True,\n",
       "        True,  True,  True,  True,  True,  True,  True,  True,  True,\n",
       "        True,  True,  True,  True,  True,  True,  True,  True,  True,\n",
       "        True,  True,  True,  True,  True,  True,  True,  True,  True,\n",
       "        True,  True])"
      ]
     },
     "execution_count": 576,
     "metadata": {},
     "output_type": "execute_result"
    }
   ],
   "source": [
    "calculated_ans == clf_ans"
   ]
  },
  {
   "cell_type": "code",
   "execution_count": 577,
   "id": "db8d9538-1b41-459d-b472-4f8a219118ac",
   "metadata": {},
   "outputs": [],
   "source": [
    "# comparing the probability difference \n",
    "diff_= clf.predict_proba(x1)- np.array(list(res.values()))"
   ]
  },
  {
   "cell_type": "code",
   "execution_count": 578,
   "id": "596f2cd1-3ff5-4c26-82ce-4aec9a327a14",
   "metadata": {},
   "outputs": [
    {
     "data": {
      "text/plain": [
       "(-0.008623979106333834, 0.00862397910632648)"
      ]
     },
     "execution_count": 578,
     "metadata": {},
     "output_type": "execute_result"
    }
   ],
   "source": [
    "# difference range\n",
    "np.min(diff_), np.max(diff_)"
   ]
  },
  {
   "cell_type": "code",
   "execution_count": 582,
   "id": "95165eda-df3a-4528-85f3-582db0bd9d67",
   "metadata": {},
   "outputs": [],
   "source": [
    "## calculate the posterior log prob\n",
    "log_res = defaultdict(list)\n",
    "for c in np.unique(y):       \n",
    "    for idx in range(x1.shape[0]):\n",
    "        if c == 1:\n",
    "            prod_ = np.log(prior1)\n",
    "            evidence = np.log(prior0)\n",
    "            e = 0\n",
    "        else:\n",
    "            prod_ = np.log(prior0)\n",
    "            evidence = np.log(prior1)\n",
    "            e = 1\n",
    "            \n",
    "        item= x1[idx]\n",
    "        for col in range(len(item)):\n",
    "            prod_ += np.log(likelihood[(c, col, item[col])])\n",
    "            #evidence += np.log(likelihood[(e, col, item[col])])\n",
    "               \n",
    "        log_res[idx].append(prod_)"
   ]
  },
  {
   "cell_type": "code",
   "execution_count": 583,
   "id": "ccdc0867-6ea2-44c3-9521-990fd99e9e5f",
   "metadata": {},
   "outputs": [],
   "source": [
    "calculated_log_ans = np.argmax(np.array(list(log_res.values())),axis=1)"
   ]
  },
  {
   "cell_type": "code",
   "execution_count": 584,
   "id": "d85efda5-f01b-4fe4-a47c-eb634918f22b",
   "metadata": {},
   "outputs": [
    {
     "data": {
      "text/plain": [
       "array([ True,  True,  True,  True,  True,  True,  True,  True,  True,\n",
       "        True,  True,  True,  True,  True,  True,  True,  True,  True,\n",
       "        True,  True,  True,  True,  True,  True,  True,  True,  True,\n",
       "        True,  True,  True,  True,  True,  True,  True,  True,  True,\n",
       "        True,  True,  True,  True,  True,  True,  True,  True,  True,\n",
       "        True,  True,  True,  True,  True,  True,  True,  True,  True,\n",
       "        True,  True,  True,  True,  True,  True,  True,  True,  True,\n",
       "        True,  True,  True,  True,  True,  True,  True,  True,  True,\n",
       "        True,  True,  True,  True,  True,  True,  True,  True,  True,\n",
       "        True,  True,  True,  True,  True,  True,  True,  True,  True,\n",
       "        True,  True,  True,  True,  True,  True,  True,  True,  True,\n",
       "        True,  True,  True,  True,  True,  True,  True,  True,  True,\n",
       "        True,  True,  True,  True,  True,  True,  True,  True,  True,\n",
       "        True,  True,  True,  True,  True,  True,  True,  True,  True,\n",
       "        True,  True,  True,  True,  True,  True,  True,  True,  True,\n",
       "        True,  True,  True,  True,  True,  True,  True,  True,  True,\n",
       "        True,  True,  True,  True,  True,  True,  True,  True,  True,\n",
       "        True,  True,  True,  True,  True,  True,  True,  True,  True,\n",
       "        True,  True,  True,  True,  True,  True,  True,  True,  True,\n",
       "        True,  True,  True,  True,  True,  True,  True,  True,  True,\n",
       "        True,  True,  True,  True,  True,  True,  True,  True,  True,\n",
       "        True,  True,  True,  True,  True,  True,  True,  True,  True,\n",
       "        True,  True])"
      ]
     },
     "execution_count": 584,
     "metadata": {},
     "output_type": "execute_result"
    }
   ],
   "source": [
    "calculated_log_ans == clf_ans"
   ]
  },
  {
   "cell_type": "code",
   "execution_count": null,
   "id": "b8652051-f7f2-4b41-acdd-6193c04b720a",
   "metadata": {},
   "outputs": [],
   "source": []
  }
 ],
 "metadata": {
  "kernelspec": {
   "display_name": "Python 3",
   "language": "python",
   "name": "python3"
  },
  "language_info": {
   "codemirror_mode": {
    "name": "ipython",
    "version": 3
   },
   "file_extension": ".py",
   "mimetype": "text/x-python",
   "name": "python",
   "nbconvert_exporter": "python",
   "pygments_lexer": "ipython3",
   "version": "3.8.8"
  }
 },
 "nbformat": 4,
 "nbformat_minor": 5
}
