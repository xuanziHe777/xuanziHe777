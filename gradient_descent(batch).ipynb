{
 "cells": [
  {
   "cell_type": "code",
   "execution_count": 1,
   "id": "afb6991b",
   "metadata": {},
   "outputs": [],
   "source": [
    "import numpy as np\n",
    "import matplotlib.pyplot as plt\n",
    "import pandas as pd\n",
    "from scipy.misc import derivative\n",
    "from sklearn.datasets import load_boston\n",
    "from sklearn.linear_model import LinearRegression\n",
    "from sklearn.datasets import make_regression "
   ]
  },
  {
   "cell_type": "markdown",
   "id": "d7a48277",
   "metadata": {},
   "source": [
    "## gradient descent scratch"
   ]
  },
  {
   "cell_type": "code",
   "execution_count": 2,
   "id": "acfd924c",
   "metadata": {},
   "outputs": [],
   "source": [
    "X, y = make_regression(n_samples=300, n_features=3, n_informative=1, random_state=0, noise=35) "
   ]
  },
  {
   "cell_type": "code",
   "execution_count": 3,
   "id": "def715f6",
   "metadata": {},
   "outputs": [],
   "source": [
    "alpha =0.001\n",
    "theta = np.random.random (4)"
   ]
  },
  {
   "cell_type": "code",
   "execution_count": 4,
   "id": "230bfe1f",
   "metadata": {},
   "outputs": [],
   "source": [
    "# add intercept \n",
    "intercept = np.ones(300)\n",
    "X = np.insert(X, 0, intercept, axis=1)"
   ]
  },
  {
   "cell_type": "code",
   "execution_count": 5,
   "id": "1eb3ed20",
   "metadata": {},
   "outputs": [],
   "source": [
    "def yhat(x, theta):\n",
    "    yhat_ = np.dot(x, theta)\n",
    "    return yhat_"
   ]
  },
  {
   "cell_type": "code",
   "execution_count": 6,
   "id": "0c7e2705",
   "metadata": {},
   "outputs": [],
   "source": [
    "def cost_func(x, loss):\n",
    "    #m = x.shape[0]\n",
    "    #cost_ = (1/2)*sum((y-yhat_)**2)\n",
    "    #cost_ = np.sum(loss ** 2) / (2 * m)  # cost\n",
    "    cost_ = np.sum(loss ** 2) / 2  \n",
    "    return cost_"
   ]
  },
  {
   "cell_type": "code",
   "execution_count": 7,
   "id": "3945ace9",
   "metadata": {},
   "outputs": [],
   "source": [
    "#batch \n",
    "def gradient_desc(x, loss):\n",
    "    #m = x.shape[0]\n",
    "    #gd = np.dot(loss, x)/m\n",
    "    gd = np.dot(loss, x)\n",
    "    return gd"
   ]
  },
  {
   "cell_type": "code",
   "execution_count": 10,
   "id": "ca31329f",
   "metadata": {},
   "outputs": [
    {
     "name": "stdout",
     "output_type": "stream",
     "text": [
      "iter 0 | J: 1665358.524 | theta: [0.25028188 0.08517643 0.09642142 0.46481137] | diff: inf\n",
      "iter 5 | J: 224197.568 | theta: [ 2.24404545 -3.67471741 82.43046375  0.64925688] | diff: 42166.220\n",
      "iter 10 | J: 184296.112 | theta: [ 2.45398271 -2.02595456 96.04736557 -0.67801111] | diff: 1277.153\n",
      "iter 15 | J: 183034.816 | theta: [ 2.46251735 -1.42023126 98.38287217 -1.15029922] | diff: 42.952\n",
      "iter 20 | J: 182991.203 | theta: [ 2.45573465 -1.27024999 98.79619863 -1.27878517] | diff: 1.544\n",
      "iter 25 | J: 182989.606 | theta: [ 2.45197292 -1.23797175 98.8712511  -1.31072044] | diff: 0.058\n",
      "iter 30 | J: 182989.545 | theta: [ 2.45054263 -1.23154191 98.88516078 -1.31839036] | diff: 0.002\n",
      "iter 35 | J: 182989.542 | theta: [ 2.45007044 -1.23033319 98.88778072 -1.320215  ] | diff: 0.000\n"
     ]
    }
   ],
   "source": [
    "## batch GD\n",
    "\n",
    "diff, cost_ = float('inf'), float('inf')\n",
    "counter =0\n",
    "\n",
    "while diff > 0.00001 and counter < 100000:\n",
    "       \n",
    "    yhat_ = yhat(X, theta)\n",
    "    loss = y - yhat_\n",
    "    if cost_: prev_cost = cost_\n",
    "    cost_ = cost_func(X, loss)\n",
    "    \n",
    "    diff = abs(prev_cost - cost_)\n",
    "    if counter %5 == 0: print(\"iter %s | J: %.3f | theta: %s | diff: %.3f\" % (counter, cost_, theta, diff))    \n",
    "    theta += alpha*gradient_desc(X, loss)\n",
    "    counter +=1\n",
    "    "
   ]
  },
  {
   "cell_type": "code",
   "execution_count": 12,
   "id": "1bf45b5b",
   "metadata": {},
   "outputs": [
    {
     "name": "stdout",
     "output_type": "stream",
     "text": [
      "[2.44986748581179, -1.2300786066989886, 98.88840062486958, -1.3207890120808656]\n"
     ]
    }
   ],
   "source": [
    "lm = LinearRegression()\n",
    "lm.fit(X, y)\n",
    "ans = [lm.intercept_] + list(lm.coef_[1:])\n",
    "print(ans)"
   ]
  },
  {
   "cell_type": "code",
   "execution_count": 14,
   "id": "1d9082a6",
   "metadata": {},
   "outputs": [
    {
     "data": {
      "text/plain": [
       "[5.85179711807271e-05,\n",
       " 4.0348575626181216e-05,\n",
       " 0.00011992710156505382,\n",
       " 0.00013868925993065773]"
      ]
     },
     "execution_count": 14,
     "metadata": {},
     "output_type": "execute_result"
    }
   ],
   "source": [
    "import operator\n",
    "diff = [abs(i) for i in list(map(operator.sub, ans, list(theta)))]\n",
    "diff"
   ]
  },
  {
   "cell_type": "code",
   "execution_count": null,
   "id": "d702a022",
   "metadata": {},
   "outputs": [],
   "source": []
  }
 ],
 "metadata": {
  "kernelspec": {
   "display_name": "Python 3",
   "language": "python",
   "name": "python3"
  },
  "language_info": {
   "codemirror_mode": {
    "name": "ipython",
    "version": 3
   },
   "file_extension": ".py",
   "mimetype": "text/x-python",
   "name": "python",
   "nbconvert_exporter": "python",
   "pygments_lexer": "ipython3",
   "version": "3.8.8"
  }
 },
 "nbformat": 4,
 "nbformat_minor": 5
}
