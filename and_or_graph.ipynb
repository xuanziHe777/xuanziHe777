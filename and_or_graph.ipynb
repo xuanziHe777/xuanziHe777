{
 "cells": [
  {
   "cell_type": "code",
   "execution_count": 2,
   "id": "a33e0422",
   "metadata": {},
   "outputs": [],
   "source": [
    "import numpy as np"
   ]
  },
  {
   "cell_type": "code",
   "execution_count": 15,
   "id": "98aee60e",
   "metadata": {},
   "outputs": [],
   "source": [
    "## and \n",
    "def original_and_(x1, x2, w1, w2, threshold):\n",
    "    res1 = x1*w1\n",
    "    res2 = x2*w2\n",
    "    if res1 + res2 > threshold:\n",
    "        return 1\n",
    "    else:\n",
    "        return 0"
   ]
  },
  {
   "cell_type": "code",
   "execution_count": 46,
   "id": "b70f1d9e",
   "metadata": {},
   "outputs": [
    {
     "data": {
      "text/plain": [
       "0"
      ]
     },
     "execution_count": 46,
     "metadata": {},
     "output_type": "execute_result"
    }
   ],
   "source": [
    "original_and_(0.2, 0, 0.5, 0.7, 0.3)"
   ]
  },
  {
   "cell_type": "code",
   "execution_count": 17,
   "id": "405b5e04",
   "metadata": {},
   "outputs": [],
   "source": [
    "## and \n",
    "def and_(x):\n",
    "    w = np.array([0.5, 0.5])\n",
    "    b = -0.8\n",
    "    if np.sum(x*w) + b > 0:\n",
    "        return 1\n",
    "    else:\n",
    "        return 0"
   ]
  },
  {
   "cell_type": "code",
   "execution_count": 18,
   "id": "80806be9",
   "metadata": {},
   "outputs": [],
   "source": [
    "## not and\n",
    "def nand_(x):\n",
    "    w = np.array([-0.5, -0.5])\n",
    "    b = 0.8\n",
    "    if np.sum(x*w) +b > 0:\n",
    "        return 1\n",
    "    else:\n",
    "        return 0"
   ]
  },
  {
   "cell_type": "code",
   "execution_count": 19,
   "id": "59298773",
   "metadata": {},
   "outputs": [],
   "source": [
    "## or\n",
    "def or_(x):\n",
    "    w = np.array([0.5, 0.5])\n",
    "    b = -0.2\n",
    "    if np.sum(x*w) +b > 0:\n",
    "        return 1\n",
    "    else:\n",
    "        return 0"
   ]
  },
  {
   "cell_type": "code",
   "execution_count": 39,
   "id": "d8bb2727",
   "metadata": {},
   "outputs": [],
   "source": [
    "x = np.array([0.39, 0.8])"
   ]
  },
  {
   "cell_type": "code",
   "execution_count": 40,
   "id": "75685345",
   "metadata": {},
   "outputs": [
    {
     "data": {
      "text/plain": [
       "1"
      ]
     },
     "execution_count": 40,
     "metadata": {},
     "output_type": "execute_result"
    }
   ],
   "source": [
    "or_(x)"
   ]
  },
  {
   "cell_type": "code",
   "execution_count": 41,
   "id": "30cb809d",
   "metadata": {},
   "outputs": [
    {
     "data": {
      "text/plain": [
       "0"
      ]
     },
     "execution_count": 41,
     "metadata": {},
     "output_type": "execute_result"
    }
   ],
   "source": [
    "and_(x)"
   ]
  },
  {
   "cell_type": "code",
   "execution_count": 43,
   "id": "31759d09",
   "metadata": {},
   "outputs": [],
   "source": [
    "## xor\n",
    "def xor(x):\n",
    "    _nand = nand_(x)\n",
    "    _or = or_(x)\n",
    "    return and_(np.array([_nand, _or]))\n",
    "    "
   ]
  },
  {
   "cell_type": "code",
   "execution_count": 44,
   "id": "12dc3f58",
   "metadata": {},
   "outputs": [
    {
     "data": {
      "text/plain": [
       "1"
      ]
     },
     "execution_count": 44,
     "metadata": {},
     "output_type": "execute_result"
    }
   ],
   "source": [
    "xor(x)"
   ]
  },
  {
   "cell_type": "code",
   "execution_count": null,
   "id": "77a82564",
   "metadata": {},
   "outputs": [],
   "source": []
  }
 ],
 "metadata": {
  "kernelspec": {
   "display_name": "Python 3",
   "language": "python",
   "name": "python3"
  },
  "language_info": {
   "codemirror_mode": {
    "name": "ipython",
    "version": 3
   },
   "file_extension": ".py",
   "mimetype": "text/x-python",
   "name": "python",
   "nbconvert_exporter": "python",
   "pygments_lexer": "ipython3",
   "version": "3.8.8"
  }
 },
 "nbformat": 4,
 "nbformat_minor": 5
}
