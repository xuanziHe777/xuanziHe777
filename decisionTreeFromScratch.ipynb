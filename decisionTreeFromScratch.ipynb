{
 "cells": [
  {
   "cell_type": "markdown",
   "id": "c64214c8",
   "metadata": {},
   "source": [
    "http://cs229.stanford.edu/notes2021spring/notes2021spring/Decision_Trees_CS229.pdf"
   ]
  },
  {
   "cell_type": "code",
   "execution_count": 120,
   "id": "b1d35306",
   "metadata": {},
   "outputs": [],
   "source": [
    "import math\n",
    "import numpy as np\n",
    "import seaborn as sns\n",
    "import pandas as pd\n",
    "import matplotlib.pyplot as plt"
   ]
  },
  {
   "cell_type": "code",
   "execution_count": 121,
   "id": "8d9e9307",
   "metadata": {},
   "outputs": [
    {
     "data": {
      "text/plain": [
       "<matplotlib.collections.PathCollection at 0x7fde64b66a30>"
      ]
     },
     "execution_count": 121,
     "metadata": {},
     "output_type": "execute_result"
    },
    {
     "data": {
      "image/png": "[encoded data removed]",
      "text/plain": [
       "<Figure size 864x576 with 1 Axes>"
      ]
     },
     "metadata": {
      "needs_background": "light"
     },
     "output_type": "display_data"
    }
   ],
   "source": [
    "np.random.seed(12)\n",
    "num_observations = 50\n",
    "\n",
    "# todo: check the np.random.multivariate normal function\n",
    "# np.hstack\n",
    "x1 = np.random.randint(low =2, high = 5, size=(num_observations, 2))\n",
    "x2 = np.random.randint(low =4, high = 6, size=(num_observations, 2))\n",
    "\n",
    "X = np.vstack((x1, x2))\n",
    "y = np.hstack((np.zeros(num_observations),\n",
    "               np.ones(num_observations)))\n",
    "\n",
    "#Displaying the output\n",
    "plt.figure(figsize=(12,8))\n",
    "plt.scatter(X[:, 0], X[:, 1], c = y, alpha = .4)"
   ]
  },
  {
   "cell_type": "code",
   "execution_count": 122,
   "id": "bdfb164a",
   "metadata": {},
   "outputs": [],
   "source": [
    "def giniscore(X, y):\n",
    "    dict_= dict.fromkeys(list(set(y)), 0)\n",
    "    for key in dict_.keys():\n",
    "        dict_[key] = np.array([elem for idx, elem in enumerate(X) if y[idx] ==key])\n",
    "    return 1-sum([(i.shape[0]/X.shape[0])**2 for i in dict_.values()])"
   ]
  },
  {
   "cell_type": "code",
   "execution_count": 303,
   "id": "4829779d",
   "metadata": {},
   "outputs": [],
   "source": [
    "# make the classification based on X level\n",
    "\n",
    "def spliting(X, y, gini_base =1):\n",
    "    dict_ = {}\n",
    "     \n",
    "    for j in range(X.shape[1]): ## the features \n",
    "        \n",
    "        #for i in sorted(set(X[:,j]))[1:]: ## spliting criteria\n",
    "        range_ = sorted(set(X[:,j]))\n",
    "        for i in np.arange(range_[0], range_[-1], 0.5)[1:]:\n",
    "            \n",
    "            left_x = np.array([elem for idx, elem in enumerate(X) if X[idx,j] <i])\n",
    "            left_y = np.array([y[idx] for idx, elem in enumerate(X) if X[idx,j] <i])\n",
    "            right_x = np.array([elem for idx, elem in enumerate(X) if X[idx,j] >=i])\n",
    "            right_y = np.array([y[idx] for idx, elem in enumerate(X) if X[idx,j] >=i])\n",
    "\n",
    "            left_ratio, right_ratio = left_y.shape[0]/y.shape[0], right_y.shape[0]/y.shape[0]\n",
    "            res = left_ratio*giniscore(left_x, left_y) + right_ratio*giniscore(right_x, right_y)\n",
    "            dict_[(j,i)] = res\n",
    "\n",
    "    # result\n",
    "    res = dict(sorted(dict_.items(), key=lambda item: item[1]))\n",
    "    keys = list(res.keys())\n",
    "    primary_key = keys[0]\n",
    "    \n",
    "    gini_current = list(res.values())[0]\n",
    "    gini_gain = gini_base - gini_current\n",
    "    gini_base = gini_current\n",
    "    \n",
    "    if gini_gain >0:\n",
    "        j, i = primary_key[0], primary_key[1]\n",
    "        left_x = np.array([elem for idx, elem in enumerate(X) if X[idx,j] <i])\n",
    "        left_y = np.array([y[idx] for idx, elem in enumerate(X) if X[idx,j] <i])\n",
    "        right_x = np.array([elem for idx, elem in enumerate(X) if X[idx,j] >=i])\n",
    "        right_y = np.array([y[idx] for idx, elem in enumerate(X) if X[idx,j] >=i])\n",
    "        return primary_key, gini_base, left_x, left_y, right_x, right_y\n",
    "    else:\n",
    "        return None, None, None, None, None, None\n",
    "    "
   ]
  },
  {
   "cell_type": "code",
   "execution_count": 305,
   "id": "f5b6a1f1",
   "metadata": {},
   "outputs": [
    {
     "data": {
      "text/plain": [
       "array([3. , 3.5, 4. , 4.5])"
      ]
     },
     "execution_count": 305,
     "metadata": {},
     "output_type": "execute_result"
    }
   ],
   "source": [
    "np.arange(range_[0], range_[-1], 0.5)"
   ]
  },
  {
   "cell_type": "code",
   "execution_count": 312,
   "id": "69a2dee3",
   "metadata": {},
   "outputs": [],
   "source": [
    "def grow_tree(X, y, nodes =[]):\n",
    "    primary_key, gini_base, left_x, left_y, right_x, right_y = spliting(X, y)\n",
    "    nodes.append(primary_key)\n",
    "         \n",
    "    if len(set(left_x.flatten()))!=1 and len(set(left_y)) !=1:\n",
    "        grow_tree(left_x, left_y, nodes)\n",
    "        \n",
    "    if len(set(right_x.flatten()))!=1 and len(set(right_y)) !=1:\n",
    "        grow_tree(right_x, right_y, nodes)\n",
    "    \n",
    "    return nodes"
   ]
  },
  {
   "cell_type": "code",
   "execution_count": 313,
   "id": "8afb8fd8",
   "metadata": {},
   "outputs": [],
   "source": [
    "nodes = grow_tree(X, y)"
   ]
  },
  {
   "cell_type": "code",
   "execution_count": 314,
   "id": "9a9dc0da",
   "metadata": {},
   "outputs": [
    {
     "data": {
      "text/plain": [
       "[(1, 3.5), (0, 3.5), (0, 4.5), (1, 4.5)]"
      ]
     },
     "execution_count": 314,
     "metadata": {},
     "output_type": "execute_result"
    }
   ],
   "source": [
    "nodes"
   ]
  },
  {
   "cell_type": "code",
   "execution_count": 315,
   "id": "a6b599a6",
   "metadata": {},
   "outputs": [],
   "source": [
    "from sklearn import tree"
   ]
  },
  {
   "cell_type": "code",
   "execution_count": 316,
   "id": "afa4574d",
   "metadata": {},
   "outputs": [],
   "source": [
    "clf = tree.DecisionTreeClassifier()\n",
    "clf = clf.fit(X, y)"
   ]
  },
  {
   "cell_type": "code",
   "execution_count": 317,
   "id": "5a6a9129",
   "metadata": {},
   "outputs": [
    {
     "data": {
      "text/plain": [
       "[Text(111.60000000000001, 195.696, 'X[1] <= 3.5\\ngini = 0.5\\nsamples = 100\\nvalue = [50, 50]'),\n",
       " Text(55.800000000000004, 152.208, 'gini = 0.0\\nsamples = 35\\nvalue = [35, 0]'),\n",
       " Text(167.4, 152.208, 'X[0] <= 3.5\\ngini = 0.355\\nsamples = 65\\nvalue = [15, 50]'),\n",
       " Text(111.60000000000001, 108.72, 'gini = 0.0\\nsamples = 10\\nvalue = [10, 0]'),\n",
       " Text(223.20000000000002, 108.72, 'X[0] <= 4.5\\ngini = 0.165\\nsamples = 55\\nvalue = [5, 50]'),\n",
       " Text(167.4, 65.232, 'X[1] <= 4.5\\ngini = 0.245\\nsamples = 35\\nvalue = [5, 30]'),\n",
       " Text(111.60000000000001, 21.744, 'gini = 0.34\\nsamples = 23\\nvalue = [5, 18]'),\n",
       " Text(223.20000000000002, 21.744, 'gini = 0.0\\nsamples = 12\\nvalue = [0, 12]'),\n",
       " Text(279.0, 65.232, 'gini = 0.0\\nsamples = 20\\nvalue = [0, 20]')]"
      ]
     },
     "execution_count": 317,
     "metadata": {},
     "output_type": "execute_result"
    },
    {
     "data": {
      "image/png": "[encoded data removed]",
      "text/plain": [
       "<Figure size 432x288 with 1 Axes>"
      ]
     },
     "metadata": {
      "needs_background": "light"
     },
     "output_type": "display_data"
    }
   ],
   "source": [
    "tree.plot_tree(clf) "
   ]
  },
  {
   "cell_type": "code",
   "execution_count": 311,
   "id": "f7d0f5db",
   "metadata": {},
   "outputs": [
    {
     "data": {
      "text/plain": [
       "[(1, 3.5), (0, 3.5), (0, 4.5), (1, 4.5)]"
      ]
     },
     "execution_count": 311,
     "metadata": {},
     "output_type": "execute_result"
    }
   ],
   "source": [
    "nodes"
   ]
  }
 ],
 "metadata": {
  "kernelspec": {
   "display_name": "Python 3",
   "language": "python",
   "name": "python3"
  },
  "language_info": {
   "codemirror_mode": {
    "name": "ipython",
    "version": 3
   },
   "file_extension": ".py",
   "mimetype": "text/x-python",
   "name": "python",
   "nbconvert_exporter": "python",
   "pygments_lexer": "ipython3",
   "version": "3.8.8"
  }
 },
 "nbformat": 4,
 "nbformat_minor": 5
}
