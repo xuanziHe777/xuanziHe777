{
 "cells": [
  {
   "cell_type": "code",
   "execution_count": 12,
   "id": "f36ec8fc",
   "metadata": {},
   "outputs": [],
   "source": [
    "import numpy as np"
   ]
  },
  {
   "cell_type": "code",
   "execution_count": 13,
   "id": "06278d55",
   "metadata": {},
   "outputs": [],
   "source": [
    "def sigmoid(x):\n",
    "    return 1/ (1+np.exp(-x))"
   ]
  },
  {
   "cell_type": "code",
   "execution_count": 14,
   "id": "a255e292",
   "metadata": {},
   "outputs": [],
   "source": [
    "\n",
    "x = np.random.randn(10, 2)\n",
    "W1= np.random.randn(2, 4)\n",
    "b1 = np.random.randn(4)\n",
    "W2= np.random.randn(4, 3)\n",
    "b2 = np.random.randn(3)"
   ]
  },
  {
   "cell_type": "code",
   "execution_count": 15,
   "id": "a02a1128",
   "metadata": {},
   "outputs": [],
   "source": [
    "h = np.dot(x, W1) + b1"
   ]
  },
  {
   "cell_type": "code",
   "execution_count": 16,
   "id": "fe0770ee",
   "metadata": {},
   "outputs": [],
   "source": [
    "a = sigmoid(h)"
   ]
  },
  {
   "cell_type": "code",
   "execution_count": 17,
   "id": "86042d20",
   "metadata": {},
   "outputs": [],
   "source": [
    "s = np.dot(a, W2) +b2"
   ]
  },
  {
   "cell_type": "code",
   "execution_count": 19,
   "id": "8f4c7620",
   "metadata": {},
   "outputs": [
    {
     "data": {
      "text/plain": [
       "array([[ 1.08285728,  2.02263511, -0.06264663],\n",
       "       [ 1.14509711,  2.11309067,  0.10351852],\n",
       "       [ 1.45600798,  2.78811041,  0.41065505],\n",
       "       [ 1.08559167,  1.99529233, -0.07268861],\n",
       "       [ 1.16511869,  2.18635774,  0.13207122],\n",
       "       [ 1.22205138,  2.25294846,  0.29650455],\n",
       "       [ 0.93620385,  1.79109163, -0.45339328],\n",
       "       [ 1.01000719,  1.90565137, -0.25683554],\n",
       "       [ 0.87801921,  1.80790965, -0.74783178],\n",
       "       [ 1.44840624,  2.72512972,  0.53021923]])"
      ]
     },
     "execution_count": 19,
     "metadata": {},
     "output_type": "execute_result"
    }
   ],
   "source": [
    "s"
   ]
  },
  {
   "cell_type": "code",
   "execution_count": null,
   "id": "95e99f90",
   "metadata": {},
   "outputs": [],
   "source": []
  }
 ],
 "metadata": {
  "kernelspec": {
   "display_name": "Python 3",
   "language": "python",
   "name": "python3"
  },
  "language_info": {
   "codemirror_mode": {
    "name": "ipython",
    "version": 3
   },
   "file_extension": ".py",
   "mimetype": "text/x-python",
   "name": "python",
   "nbconvert_exporter": "python",
   "pygments_lexer": "ipython3",
   "version": "3.8.8"
  }
 },
 "nbformat": 4,
 "nbformat_minor": 5
}
