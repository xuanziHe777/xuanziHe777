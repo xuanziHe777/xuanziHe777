{
 "cells": [
  {
   "cell_type": "code",
   "execution_count": 39,
   "id": "94efee6a",
   "metadata": {},
   "outputs": [],
   "source": [
    "import math\n",
    "import numpy as np\n",
    "import seaborn as sns\n",
    "import pandas as pd\n",
    "import matplotlib.pyplot as plt\n",
    "import sklearn.datasets\n",
    "import scipy\n",
    "from numpy import linalg as LA"
   ]
  },
  {
   "cell_type": "code",
   "execution_count": 40,
   "id": "77d8d89b",
   "metadata": {},
   "outputs": [
    {
     "data": {
      "text/plain": [
       "<matplotlib.collections.PathCollection at 0x7ff8b1191610>"
      ]
     },
     "execution_count": 40,
     "metadata": {},
     "output_type": "execute_result"
    },
    {
     "data": {
      "image/png": "[encoded data removed]",
      "text/plain": [
       "<Figure size 864x576 with 1 Axes>"
      ]
     },
     "metadata": {
      "needs_background": "light"
     },
     "output_type": "display_data"
    }
   ],
   "source": [
    "import numpy as np\n",
    "X = np.random.rand(60,20)\n",
    "\n",
    "#Displaying the output\n",
    "plt.figure(figsize=(12,8))\n",
    "plt.scatter(X[:, 0], X[:, 1], alpha = .4)"
   ]
  },
  {
   "cell_type": "code",
   "execution_count": 3,
   "id": "f8c5c3ed",
   "metadata": {},
   "outputs": [],
   "source": [
    "mean_ = np.apply_along_axis(lambda x:np.mean(x), 0, X) \n",
    "X_ = np.apply_along_axis(lambda x,m : x-m, 1, X, mean_)"
   ]
  },
  {
   "cell_type": "code",
   "execution_count": 4,
   "id": "35d91a01",
   "metadata": {},
   "outputs": [],
   "source": [
    "from scipy.sparse.linalg import svds, eigs\n",
    "u, s, vt = svds(X_)"
   ]
  },
  {
   "cell_type": "markdown",
   "id": "4ae86ae4",
   "metadata": {},
   "source": [
    "### power iteration for calculating dominant eigenvector/ eigenvalues\n"
   ]
  },
  {
   "cell_type": "code",
   "execution_count": 41,
   "id": "43a1113c",
   "metadata": {},
   "outputs": [],
   "source": [
    "xtest = np.random.rand(20,20)"
   ]
  },
  {
   "cell_type": "code",
   "execution_count": 42,
   "id": "54fb31f0",
   "metadata": {},
   "outputs": [
    {
     "data": {
      "text/plain": [
       "((20,), (20, 20), (20,))"
      ]
     },
     "execution_count": 42,
     "metadata": {},
     "output_type": "execute_result"
    }
   ],
   "source": [
    "w, v = LA.eig(xtest)\n",
    "v[0].shape, v.shape, w.shape"
   ]
  },
  {
   "cell_type": "code",
   "execution_count": 43,
   "id": "2edf7c9f",
   "metadata": {},
   "outputs": [],
   "source": [
    "def power_iteration(A, iter_):\n",
    "    tol = 1e-10\n",
    "    \n",
    "    eigvec = np.random.random(A.shape[0])\n",
    "    #initial eigenvalue \n",
    "    eigval_old = np.dot(eigvec.T, A.dot(eigvec))/np.dot(eigvec.T,eigvec)        \n",
    "    \n",
    "    while iter_:\n",
    "        eigvec = A.dot(eigvec)\n",
    "        norm = np.linalg.norm(eigvec)\n",
    "        eigvec /= norm\n",
    "        \n",
    "        # updated eigenvalue\n",
    "        eigval_new = np.dot(eigvec.T, A.dot(eigvec))/np.dot(eigvec.T,eigvec)  \n",
    "        diff = eigval_new - eigval_old\n",
    "        \n",
    "        if abs(diff) < tol:\n",
    "            return eigval_new, eigvec\n",
    "        \n",
    "        # update the current eigvalue\n",
    "        eigval_old = eigval_new\n",
    "        iter_ -= 1\n",
    "        \n",
    "    return eigval_new, eigvec"
   ]
  },
  {
   "cell_type": "code",
   "execution_count": 44,
   "id": "eff38bac",
   "metadata": {},
   "outputs": [],
   "source": [
    "eigval_new, eigvec = power_iteration(xtest, 2000)"
   ]
  },
  {
   "cell_type": "code",
   "execution_count": 46,
   "id": "571f3c77",
   "metadata": {},
   "outputs": [
    {
     "data": {
      "text/plain": [
       "array([0.2089263 , 0.20735426, 0.26908399, 0.19587807, 0.22357228,\n",
       "       0.2432718 , 0.20748646, 0.24360553, 0.20446555, 0.25371446,\n",
       "       0.19143336, 0.22837178, 0.21166138, 0.24188341, 0.20869562,\n",
       "       0.19630752, 0.2311158 , 0.25779673, 0.23275881, 0.19129303])"
      ]
     },
     "execution_count": 46,
     "metadata": {},
     "output_type": "execute_result"
    }
   ],
   "source": [
    "eigvec"
   ]
  },
  {
   "cell_type": "code",
   "execution_count": 47,
   "id": "778ee2b7",
   "metadata": {},
   "outputs": [],
   "source": [
    "# confirmation\n",
    "eigenvalues, eigenvectors = LA.eig(xtest)"
   ]
  },
  {
   "cell_type": "code",
   "execution_count": 48,
   "id": "b2227abc",
   "metadata": {},
   "outputs": [
    {
     "data": {
      "text/plain": [
       "array([0.2089263 +0.j, 0.20735426+0.j, 0.26908399+0.j, 0.19587807+0.j,\n",
       "       0.22357228+0.j, 0.2432718 +0.j, 0.20748646+0.j, 0.24360553+0.j,\n",
       "       0.20446555+0.j, 0.25371446+0.j, 0.19143336+0.j, 0.22837178+0.j,\n",
       "       0.21166138+0.j, 0.24188341+0.j, 0.20869562+0.j, 0.19630752+0.j,\n",
       "       0.2311158 +0.j, 0.25779673+0.j, 0.23275881+0.j, 0.19129303+0.j])"
      ]
     },
     "execution_count": 48,
     "metadata": {},
     "output_type": "execute_result"
    }
   ],
   "source": [
    "eigenvectors[:, 0]"
   ]
  },
  {
   "cell_type": "markdown",
   "id": "73d87f23",
   "metadata": {},
   "source": [
    "### power-iteration for calculating svd"
   ]
  },
  {
   "cell_type": "code",
   "execution_count": 33,
   "id": "d0c07c62",
   "metadata": {},
   "outputs": [],
   "source": [
    "def power_svd(mat, iters):\n",
    "    # transform mat into square matrix\n",
    "    AtA = mat.T.dot(mat)\n",
    "    \n",
    "    # random vector aligned with the mat dimension\n",
    "    v = np.random.random(size= mat.shape[1])\n",
    "\n",
    "    # normal power iteration for calculating dominant eigenvector\n",
    "    for i in range(iters):\n",
    "        v = AtA.dot(v)\n",
    "        v /= np.linalg.norm(v)\n",
    "    \n",
    "    # calculating sigma from np\n",
    "    # largest sing. value\n",
    "    Av = mat.dot(v)\n",
    "    sigma_ = np.linalg.norm(Av, ord =2)\n",
    "    \n",
    "    # calculate lambda of AtA from Rayleigh Quotient\n",
    "    lambda_ = np.dot(v.T, AtA.dot(v))/np.dot(v.T,v)\n",
    "    sigma = math.sqrt(lambda_)\n",
    "    \n",
    "    diff = abs(sigma - sigma_)\n",
    "    u = Av / sigma\n",
    "    \n",
    "    return np.reshape(u, (mat.shape[0], 1)), sigma, np.reshape(v, (mat.shape[1], 1)), diff"
   ]
  },
  {
   "cell_type": "code",
   "execution_count": 34,
   "id": "1b109078",
   "metadata": {},
   "outputs": [],
   "source": [
    "rank = np.linalg.matrix_rank(X_)\n",
    "U, S, V = np.zeros((X_.shape[0], 1)), [], np.zeros((X_.shape[1], 1))\n",
    "diff = []"
   ]
  },
  {
   "cell_type": "code",
   "execution_count": 50,
   "id": "16bf48f0",
   "metadata": {},
   "outputs": [
    {
     "data": {
      "text/plain": [
       "PCA()"
      ]
     },
     "execution_count": 50,
     "metadata": {},
     "output_type": "execute_result"
    }
   ],
   "source": [
    "import numpy as np\n",
    "from sklearn.decomposition import PCA\n",
    "\n",
    "pca = PCA()\n",
    "pca.fit(X_)"
   ]
  },
  {
   "cell_type": "code",
   "execution_count": 51,
   "id": "c0bb3437",
   "metadata": {},
   "outputs": [
    {
     "name": "stdout",
     "output_type": "stream",
     "text": [
      "[3.30323445 3.01487793 2.96637011 2.69200499 2.6547323  2.54149223\n",
      " 2.43995859 2.29665621 2.21078819 2.12014664 2.02033803 1.93776643\n",
      " 1.88886032 1.78441625 1.70524671 1.62640501 1.42646908 1.36547121\n",
      " 1.22482122 0.70586806]\n"
     ]
    }
   ],
   "source": [
    "# for confirmation\n",
    "print(pca.singular_values_)"
   ]
  },
  {
   "cell_type": "code",
   "execution_count": 52,
   "id": "e2bc4ca9",
   "metadata": {},
   "outputs": [
    {
     "name": "stdout",
     "output_type": "stream",
     "text": [
      "0 3.303234448631947\n",
      "1 3.014837240114433\n",
      "2 2.9664114653795393\n",
      "3 2.691983426634165\n",
      "4 2.654754156513444\n",
      "5 2.541491647125446\n",
      "6 2.4399592012141937\n",
      "7 2.29665620756233\n",
      "8 2.21078819280394\n",
      "9 2.1201466437904037\n",
      "10 2.02033802704434\n",
      "11 1.937750075044628\n",
      "12 1.888877098533897\n",
      "13 1.7844162350877906\n",
      "14 1.7052467258602344\n",
      "15 1.626405011685111\n",
      "16 1.4264690711585661\n",
      "17 1.3654712181632158\n",
      "18 1.2248212184281355\n",
      "19 0.705868063726358\n"
     ]
    }
   ],
   "source": [
    "## calculate the svd of A\n",
    "A = X_\n",
    "\n",
    "for i in range(rank):\n",
    "    u, sigma, v, diff_ = power_svd(A, 100)\n",
    "    U = np.hstack((U, u))\n",
    "    S.append(sigma)\n",
    "    V = np.hstack((V, v))\n",
    "    print(i, sigma)\n",
    "    diff.append(diff_)\n",
    "    \n",
    "    # update the residual part\n",
    "    A = A - u.dot(sigma).dot(v.T)"
   ]
  },
  {
   "cell_type": "code",
   "execution_count": 53,
   "id": "e5642458",
   "metadata": {},
   "outputs": [
    {
     "data": {
      "text/plain": [
       "[4.440892098500626e-16,\n",
       " 4.440892098500626e-16,\n",
       " 0.0,\n",
       " 8.881784197001252e-16,\n",
       " 0.0,\n",
       " 0.0,\n",
       " 4.440892098500626e-16,\n",
       " 0.0,\n",
       " 4.440892098500626e-16,\n",
       " 4.440892098500626e-16,\n",
       " 0.0,\n",
       " 4.440892098500626e-16,\n",
       " 2.220446049250313e-16,\n",
       " 4.440892098500626e-16,\n",
       " 0.0,\n",
       " 2.220446049250313e-16,\n",
       " 0.0,\n",
       " 2.220446049250313e-16,\n",
       " 0.0,\n",
       " 1.1102230246251565e-16,\n",
       " 0.0,\n",
       " 0.0,\n",
       " 4.440892098500626e-16,\n",
       " 4.440892098500626e-16,\n",
       " 4.440892098500626e-16,\n",
       " 4.440892098500626e-16,\n",
       " 4.440892098500626e-16,\n",
       " 4.440892098500626e-16,\n",
       " 0.0,\n",
       " 4.440892098500626e-16,\n",
       " 0.0,\n",
       " 2.220446049250313e-16,\n",
       " 4.440892098500626e-16,\n",
       " 2.220446049250313e-16,\n",
       " 2.220446049250313e-16,\n",
       " 2.220446049250313e-16,\n",
       " 0.0,\n",
       " 0.0,\n",
       " 0.0,\n",
       " 1.1102230246251565e-16]"
      ]
     },
     "execution_count": 53,
     "metadata": {},
     "output_type": "execute_result"
    }
   ],
   "source": [
    "diff"
   ]
  },
  {
   "cell_type": "code",
   "execution_count": null,
   "id": "59d685cc",
   "metadata": {},
   "outputs": [],
   "source": []
  },
  {
   "cell_type": "code",
   "execution_count": null,
   "id": "f544b8f5",
   "metadata": {},
   "outputs": [],
   "source": []
  }
 ],
 "metadata": {
  "kernelspec": {
   "display_name": "Python 3",
   "language": "python",
   "name": "python3"
  },
  "language_info": {
   "codemirror_mode": {
    "name": "ipython",
    "version": 3
   },
   "file_extension": ".py",
   "mimetype": "text/x-python",
   "name": "python",
   "nbconvert_exporter": "python",
   "pygments_lexer": "ipython3",
   "version": "3.8.8"
  }
 },
 "nbformat": 4,
 "nbformat_minor": 5
}
