{
 "cells": [
  {
   "cell_type": "code",
   "execution_count": 1,
   "id": "f36ec8fc",
   "metadata": {},
   "outputs": [],
   "source": [
    "import numpy as np\n",
    "import collections\n",
    "from sklearn.datasets import load_digits\n",
    "import matplotlib.pyplot as plt"
   ]
  },
  {
   "cell_type": "code",
   "execution_count": 2,
   "id": "79b0df0f",
   "metadata": {},
   "outputs": [
    {
     "name": "stdout",
     "output_type": "stream",
     "text": [
      "(1797, 64)\n"
     ]
    },
    {
     "data": {
      "text/plain": [
       "<matplotlib.image.AxesImage at 0x7fc77b10e040>"
      ]
     },
     "execution_count": 2,
     "metadata": {},
     "output_type": "execute_result"
    },
    {
     "data": {
      "text/plain": [
       "<Figure size 432x288 with 0 Axes>"
      ]
     },
     "metadata": {},
     "output_type": "display_data"
    },
    {
     "data": {
      "image/png": "[encoded data removed]",
      "text/plain": [
       "<Figure size 288x288 with 1 Axes>"
      ]
     },
     "metadata": {
      "needs_background": "light"
     },
     "output_type": "display_data"
    }
   ],
   "source": [
    "digits = load_digits()\n",
    "print(digits.data.shape)\n",
    "plt.gray()\n",
    "plt.matshow(digits.images[7])"
   ]
  },
  {
   "cell_type": "code",
   "execution_count": 3,
   "id": "0d69ff2a",
   "metadata": {},
   "outputs": [
    {
     "data": {
      "text/plain": [
       "((1797,), (1797, 64))"
      ]
     },
     "execution_count": 3,
     "metadata": {},
     "output_type": "execute_result"
    }
   ],
   "source": [
    "digits.target.shape, digits.data.shape"
   ]
  },
  {
   "cell_type": "code",
   "execution_count": 25,
   "id": "83a86ea3",
   "metadata": {},
   "outputs": [
    {
     "data": {
      "text/plain": [
       "array([0, 1, 2, ..., 8, 9, 8])"
      ]
     },
     "execution_count": 25,
     "metadata": {},
     "output_type": "execute_result"
    }
   ],
   "source": [
    "digits.target"
   ]
  },
  {
   "cell_type": "markdown",
   "id": "a7905b9e",
   "metadata": {},
   "source": [
    "- weight shape:\n",
    "- w1: (64, 128)\n",
    "- w2: (128, 10)"
   ]
  },
  {
   "cell_type": "code",
   "execution_count": 4,
   "id": "6d8ce704",
   "metadata": {},
   "outputs": [],
   "source": [
    "# FC Layer\n",
    "class affineLayer():\n",
    "    def __init__(self, input_size, output_size):\n",
    "        self.w = np.random.rand(input_size, output_size) -0.5 \n",
    "        self.b = np.random.rand(1, output_size) -0.5\n",
    "        #self.w = np.random.normal(0, 1, [input_size, output_size]) \n",
    "        #self.b = np.zeros((1, output_size))\n",
    "\n",
    "    def forwarding(self, x):\n",
    "        self.input = x\n",
    "        # print(self.input.shape)\n",
    "        self.output = np.dot(self.input, self.w) + self.b\n",
    "        return self.output\n",
    "    \n",
    "    def backward_propagation(self, output_error, learning_rate):\n",
    "        input_error = np.dot(output_error, self.w.T)\n",
    "        weights_error = np.dot(self.input.T, output_error)\n",
    "        \n",
    "        self.w -= learning_rate * weights_error\n",
    "        self.b -= learning_rate * np.sum(output_error)\n",
    "        return input_error\n",
    "    "
   ]
  },
  {
   "cell_type": "code",
   "execution_count": 5,
   "id": "8c845756",
   "metadata": {},
   "outputs": [],
   "source": [
    "# activation function\n",
    "class tanhLayer():\n",
    "    def __init__(self):\n",
    "        self.z = None\n",
    "\n",
    "    def forwarding(self, z):\n",
    "        self.z = z\n",
    "        return np.tanh(z)\n",
    "    \n",
    "    def backward_propagation(self, output_error, learning_rate):\n",
    "        return (1-np.tanh(self.z)**2)*output_error*learning_rate\n"
   ]
  },
  {
   "cell_type": "code",
   "execution_count": 6,
   "id": "f140ea0f",
   "metadata": {},
   "outputs": [],
   "source": [
    "# loss function and its derivative\n",
    "def mse(y_true, y_pred):\n",
    "    return np.mean(np.power(y_true-y_pred, 2));\n",
    "\n",
    "def mse_derivative(y_true, y_pred):\n",
    "    return 2*(y_pred-y_true)/y_true.size;\n"
   ]
  },
  {
   "cell_type": "code",
   "execution_count": 7,
   "id": "c6f90898",
   "metadata": {},
   "outputs": [],
   "source": [
    "# softmax cross entropy loss part\n",
    "def softmax(output_array):\n",
    "    logits_exp = np.exp(output_array)\n",
    "    return logits_exp / np.sum(logits_exp, axis = 1, keepdims = True)\n",
    "\n",
    "def softmax_derivative(x):\n",
    "    I = np.eye(x.shape[0])\n",
    "    return softmax(x) * (I - softmax(x).T)"
   ]
  },
  {
   "cell_type": "code",
   "execution_count": 8,
   "id": "495cf179",
   "metadata": {},
   "outputs": [],
   "source": [
    "def softmax_cross_entropy_loss_array(softmax_probs_array, y_onehot):\n",
    "    indices = np.argmax(y_onehot, axis = 1).astype(int)\n",
    "    predicted_probability = softmax_probs_array[np.arange(len(softmax_probs_array)), indices]\n",
    "    log_preds = np.log(predicted_probability)\n",
    "    loss = -1.0 * np.sum(log_preds) / len(log_preds)\n",
    "    return loss"
   ]
  },
  {
   "cell_type": "code",
   "execution_count": 9,
   "id": "9478b304",
   "metadata": {},
   "outputs": [],
   "source": [
    "def softmax_cross_entropy_derivatives(softmax_probs_array, y_onehot):\n",
    "    return softmax_probs_array - y_onehot"
   ]
  },
  {
   "cell_type": "code",
   "execution_count": 10,
   "id": "9b263aad",
   "metadata": {},
   "outputs": [],
   "source": [
    "class VanillaNN(object):\n",
    "    def __init__(self):\n",
    "        self.layers = []\n",
    "        self.loss = None\n",
    "        self.loss_derivative = None\n",
    "        \n",
    "    def add(self, layer):\n",
    "        self.layers.append(layer)\n",
    "    \n",
    "    def loss_use(self, loss, loss_derivative):\n",
    "        self.lossfunction = loss\n",
    "        self.loss_derivative = loss_derivative\n",
    "    \n",
    "    # training\n",
    "    def fit(self, x_train, y_train, epochs, learning_rate):\n",
    "\n",
    "        # training loop\n",
    "        for i in range(epochs):\n",
    "            output = x_train\n",
    "            for layer in self.layers:\n",
    "                output = layer.forwarding(output)\n",
    "            \n",
    "            softmax_output = softmax(output)\n",
    "            \n",
    "            # for display only\n",
    "            loss = self.lossfunction(softmax_output, y_train)\n",
    "            error = self.loss_derivative(softmax_output, y_train)\n",
    "            for layer in reversed(self.layers):\n",
    "                error = layer.backward_propagation(error, learning_rate)\n",
    "\n",
    "            if i %1000 ==0:\n",
    "                print('epoch %d/%d  loss=%f' % (i+1, epochs, loss))  \n",
    "                \n",
    "    def predict(self, test_input):\n",
    "        samples, ans = len(test_input), []\n",
    "        \n",
    "        for i in range(samples):\n",
    "            # forward propagation\n",
    "            output = test_input[i]\n",
    "            for layer in self.layers:\n",
    "                output = layer.forwarding(output)\n",
    "            ans.append(softmax(output))\n",
    "        return ans\n",
    "    "
   ]
  },
  {
   "cell_type": "code",
   "execution_count": 11,
   "id": "b597ccf0",
   "metadata": {},
   "outputs": [],
   "source": [
    "# Network\n",
    "net = VanillaNN()\n",
    "net.add(affineLayer(8*8, 128))              \n",
    "net.add(tanhLayer())\n",
    "net.add(affineLayer(128, 10))               \n",
    "net.add(tanhLayer())"
   ]
  },
  {
   "cell_type": "code",
   "execution_count": 12,
   "id": "14d26fd5",
   "metadata": {},
   "outputs": [],
   "source": [
    "# #y one-hot\n",
    "label = np.array([[0 if j!=i else 1 for j in range(10)] for i in digits.target])"
   ]
  },
  {
   "cell_type": "code",
   "execution_count": 13,
   "id": "a4f691e7",
   "metadata": {},
   "outputs": [
    {
     "name": "stdout",
     "output_type": "stream",
     "text": [
      "epoch 1/20000  loss=2.696377\n",
      "epoch 1001/20000  loss=0.825562\n",
      "epoch 2001/20000  loss=0.814402\n",
      "epoch 3001/20000  loss=0.808693\n",
      "epoch 4001/20000  loss=0.806725\n",
      "epoch 5001/20000  loss=0.805940\n",
      "epoch 6001/20000  loss=0.805473\n",
      "epoch 7001/20000  loss=0.805155\n",
      "epoch 8001/20000  loss=0.803543\n",
      "epoch 9001/20000  loss=0.803321\n",
      "epoch 10001/20000  loss=0.803168\n",
      "epoch 11001/20000  loss=0.803052\n",
      "epoch 12001/20000  loss=0.802959\n",
      "epoch 13001/20000  loss=0.802875\n",
      "epoch 14001/20000  loss=0.802543\n",
      "epoch 15001/20000  loss=0.802470\n",
      "epoch 16001/20000  loss=0.802415\n",
      "epoch 17001/20000  loss=0.802370\n",
      "epoch 18001/20000  loss=0.802331\n",
      "epoch 19001/20000  loss=0.802297\n"
     ]
    }
   ],
   "source": [
    "net.loss_use(softmax_cross_entropy_loss_array, softmax_cross_entropy_derivatives)\n",
    "net.fit(digits.data[:1000], label[:1000], epochs=20000, learning_rate=0.02)"
   ]
  },
  {
   "cell_type": "code",
   "execution_count": 26,
   "id": "fc7b33a2",
   "metadata": {},
   "outputs": [],
   "source": [
    "predicted = net.predict(digits.data[1000:])"
   ]
  },
  {
   "cell_type": "code",
   "execution_count": 27,
   "id": "ff9280a3",
   "metadata": {},
   "outputs": [],
   "source": [
    "def categorical_accuracy(Y_pred, Y_true):\n",
    "    Y_true = np.argmax(Y_true, axis=-1)\n",
    "    Y_pred = np.argmax(Y_pred, axis=-1)\n",
    "    accuracy = np.mean((Y_true == Y_pred).astype(np.float32))\n",
    "    return accuracy"
   ]
  },
  {
   "cell_type": "code",
   "execution_count": 28,
   "id": "13b0a169",
   "metadata": {},
   "outputs": [
    {
     "data": {
      "text/plain": [
       "0.89335006"
      ]
     },
     "execution_count": 28,
     "metadata": {},
     "output_type": "execute_result"
    }
   ],
   "source": [
    "categorical_accuracy(np.vstack(np.array(predicted)), label[1000:])"
   ]
  },
  {
   "cell_type": "code",
   "execution_count": null,
   "id": "c1413ac2",
   "metadata": {},
   "outputs": [],
   "source": []
  }
 ],
 "metadata": {
  "kernelspec": {
   "display_name": "Python 3",
   "language": "python",
   "name": "python3"
  },
  "language_info": {
   "codemirror_mode": {
    "name": "ipython",
    "version": 3
   },
   "file_extension": ".py",
   "mimetype": "text/x-python",
   "name": "python",
   "nbconvert_exporter": "python",
   "pygments_lexer": "ipython3",
   "version": "3.8.8"
  }
 },
 "nbformat": 4,
 "nbformat_minor": 5
}
