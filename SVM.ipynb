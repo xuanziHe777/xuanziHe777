{
 "cells": [
  {
   "cell_type": "code",
   "execution_count": 3,
   "id": "79200a6c",
   "metadata": {},
   "outputs": [],
   "source": [
    "import math\n",
    "import numpy as np\n",
    "import seaborn as sns\n",
    "import pandas as pd\n",
    "import matplotlib.pyplot as plt\n"
   ]
  },
  {
   "cell_type": "code",
   "execution_count": 131,
   "id": "f1d531aa",
   "metadata": {},
   "outputs": [
    {
     "data": {
      "text/plain": [
       "<matplotlib.collections.PathCollection at 0x7f8f791c8670>"
      ]
     },
     "execution_count": 131,
     "metadata": {},
     "output_type": "execute_result"
    },
    {
     "data": {
      "image/png": "[encoded data removed]",
      "text/plain": [
       "<Figure size 864x576 with 1 Axes>"
      ]
     },
     "metadata": {
      "needs_background": "light"
     },
     "output_type": "display_data"
    }
   ],
   "source": [
    "np.random.seed(12)\n",
    "num_observations = 50\n",
    "\n",
    "# todo: check the np.random.multivariate normal function\n",
    "# np.hstack\n",
    "x1 = np.random.multivariate_normal([0, 0], [[1, .75],[.75, 1]], num_observations)\n",
    "x2 = np.random.multivariate_normal([1, 4], [[1, .75],[.75, 1]], num_observations)\n",
    "\n",
    "X = np.vstack((x1, x2)).astype(np.float32)\n",
    "y = np.hstack((np.zeros(num_observations),\n",
    "                              np.ones(num_observations)))\n",
    "\n",
    "y = np.where(y <= 0, -1, 1)\n",
    "\n",
    "#Displaying the output\n",
    "plt.figure(figsize=(12,8))\n",
    "plt.scatter(X[:, 0], X[:, 1], c = y, alpha = .4)\n"
   ]
  },
  {
   "cell_type": "code",
   "execution_count": 197,
   "id": "9fa98acc",
   "metadata": {},
   "outputs": [
    {
     "data": {
      "text/plain": [
       "array([[-0.2015173 , -0.68335816],\n",
       "       [ 0.37451947, -0.82808223],\n",
       "       [-0.16189468, -1.24710655],\n",
       "       [ 0.03771096, -0.04730284],\n",
       "       [-0.26047906,  1.77020391],\n",
       "       [ 0.39217336,  0.72625091],\n",
       "       [-0.59554603, -1.45480013],\n",
       "       [-1.21247294, -1.29884588],\n",
       "       [-0.62401997, -1.27022304],\n",
       "       [ 0.53530969,  1.39076496],\n",
       "       [-0.51854809, -0.42036902],\n",
       "       [-0.78581739, -0.41293689],\n",
       "       [ 1.86233668,  0.29727357],\n",
       "       [ 2.20532595,  0.94095238],\n",
       "       [ 2.30415076,  1.84634807],\n",
       "       [ 0.50813952,  0.48041445],\n",
       "       [-0.06520023, -0.33698294],\n",
       "       [ 0.211607  ,  0.26340404],\n",
       "       [ 1.18518509,  0.68041247],\n",
       "       [ 0.20656092, -0.27281884],\n",
       "       [ 0.57237373,  0.49751777],\n",
       "       [-1.36222099, -1.13689061],\n",
       "       [ 0.52271502,  0.10886786],\n",
       "       [-0.68510452,  0.90010004],\n",
       "       [ 2.75493946,  3.13333768],\n",
       "       [-0.52422204,  0.08927225],\n",
       "       [ 0.32652107,  1.82158822],\n",
       "       [-0.91811827, -0.95447416],\n",
       "       [ 0.10376971, -0.40270512],\n",
       "       [ 0.00341765, -0.09793721],\n",
       "       [-1.00908029, -0.75618763],\n",
       "       [-0.16158106,  0.31770023],\n",
       "       [-0.59889007, -0.44140363],\n",
       "       [ 1.06635385,  1.79411605],\n",
       "       [ 1.44786912,  0.73400123],\n",
       "       [-0.08255798,  0.27949636],\n",
       "       [-0.72011799, -1.91349951],\n",
       "       [-1.95479039, -0.79763637],\n",
       "       [ 0.50278776,  0.36040313],\n",
       "       [ 0.74818402,  0.32158713],\n",
       "       [ 1.85026641,  0.65550137],\n",
       "       [ 0.09531728,  0.27759002],\n",
       "       [-1.35679764, -2.06461262],\n",
       "       [ 1.90478129,  2.00841465],\n",
       "       [ 0.31028766,  0.56217536],\n",
       "       [ 0.81738515, -0.07302033],\n",
       "       [ 0.36061429,  0.92815973],\n",
       "       [ 0.08785715, -0.59745412],\n",
       "       [-0.30428621, -1.32701678],\n",
       "       [ 0.4318568 ,  0.57180774]])"
      ]
     },
     "execution_count": 197,
     "metadata": {},
     "output_type": "execute_result"
    }
   ],
   "source": [
    "x1"
   ]
  },
  {
   "cell_type": "code",
   "execution_count": 132,
   "id": "c33be834",
   "metadata": {},
   "outputs": [],
   "source": [
    "def Lagrangian(w, alpha):\n",
    "    first_part = np.sum(alpha) \n",
    "    second_part = np.sum(np.dot(alpha*alpha*y*y*X.T, X))\n",
    "    res = first_part- 0.5* second_part\n",
    "    return res"
   ]
  },
  {
   "cell_type": "code",
   "execution_count": 168,
   "id": "2ee95fb5",
   "metadata": {},
   "outputs": [],
   "source": [
    "def gradient_(w, X, y, b, lr):\n",
    "    for i in range(2000):\n",
    "        for idx, x_i in enumerate(X):\n",
    "            y_i = y[idx]\n",
    "\n",
    "            cond = y_i*(np.dot(x_i, w) -b) >=1\n",
    "            if cond:\n",
    "                w -= lr*2*w\n",
    "            else:\n",
    "                w-= lr*(2*w - np.dot(x_i, y_i))\n",
    "                b -= lr * y_i    \n",
    "    return w, b"
   ]
  },
  {
   "cell_type": "code",
   "execution_count": 170,
   "id": "89b930f0",
   "metadata": {},
   "outputs": [],
   "source": [
    "w, b, lr = np.random.random(X.shape[1]), 0, 0.0001"
   ]
  },
  {
   "cell_type": "code",
   "execution_count": 171,
   "id": "b0f1b277",
   "metadata": {},
   "outputs": [],
   "source": [
    "w, b = gradient_(w, X, y, b, lr)"
   ]
  },
  {
   "cell_type": "code",
   "execution_count": 172,
   "id": "b05eff02",
   "metadata": {},
   "outputs": [],
   "source": [
    "def predict(X, w, b):\n",
    "    pred = np.dot(X, w) -b\n",
    "    return np.sign(pred)"
   ]
  },
  {
   "cell_type": "code",
   "execution_count": 173,
   "id": "c896e779",
   "metadata": {},
   "outputs": [],
   "source": [
    "svm_pred = predict(X, w, b)"
   ]
  },
  {
   "cell_type": "code",
   "execution_count": 174,
   "id": "9c80bb59",
   "metadata": {},
   "outputs": [
    {
     "name": "stdout",
     "output_type": "stream",
     "text": [
      "0.97\n"
     ]
    }
   ],
   "source": [
    "print(accuracy_score(y,svm_pred))"
   ]
  },
  {
   "cell_type": "markdown",
   "id": "49766f1d",
   "metadata": {},
   "source": [
    "#### without B"
   ]
  },
  {
   "cell_type": "code",
   "execution_count": 189,
   "id": "f3c1699c",
   "metadata": {},
   "outputs": [],
   "source": [
    "def gradient_(w, X, y, lr):\n",
    "    for i in range(3000):\n",
    "        for idx, x_i in enumerate(X):\n",
    "            y_i = y[idx]\n",
    "\n",
    "            cond = y_i*(np.dot(x_i, w) -b) >=1\n",
    "            if cond:\n",
    "                w -= lr*2*w\n",
    "            else:\n",
    "                w-= lr*(2*w - np.dot(x_i, y_i))  \n",
    "    return w "
   ]
  },
  {
   "cell_type": "code",
   "execution_count": 190,
   "id": "0055706e",
   "metadata": {},
   "outputs": [],
   "source": [
    "w, lr = np.random.random(X.shape[1]), 0.0001"
   ]
  },
  {
   "cell_type": "code",
   "execution_count": 191,
   "id": "bf29a9b2",
   "metadata": {},
   "outputs": [],
   "source": [
    "w = gradient_(w, X, y, lr)"
   ]
  },
  {
   "cell_type": "code",
   "execution_count": 192,
   "id": "b78ed0e8",
   "metadata": {},
   "outputs": [],
   "source": [
    "def predict(X, w):\n",
    "    pred = np.dot(X, w)\n",
    "    return np.sign(pred)"
   ]
  },
  {
   "cell_type": "code",
   "execution_count": 193,
   "id": "8f1303e8",
   "metadata": {},
   "outputs": [],
   "source": [
    "svm_pred = predict(X, w)"
   ]
  },
  {
   "cell_type": "code",
   "execution_count": 194,
   "id": "176bc903",
   "metadata": {},
   "outputs": [
    {
     "name": "stdout",
     "output_type": "stream",
     "text": [
      "0.73\n"
     ]
    }
   ],
   "source": [
    "print(accuracy_score(y,svm_pred))"
   ]
  },
  {
   "cell_type": "code",
   "execution_count": 182,
   "id": "2876c706",
   "metadata": {},
   "outputs": [
    {
     "name": "stdout",
     "output_type": "stream",
     "text": [
      "0.98\n"
     ]
    }
   ],
   "source": [
    "from sklearn.svm import SVC\n",
    "from sklearn.metrics import accuracy_score\n",
    "\n",
    "clf = SVC(kernel='linear')\n",
    "clf.fit(X,y)\n",
    "y_pred = clf.predict(X)\n",
    "print(accuracy_score(y,y_pred))\n"
   ]
  },
  {
   "cell_type": "code",
   "execution_count": null,
   "id": "634c724e",
   "metadata": {},
   "outputs": [],
   "source": []
  }
 ],
 "metadata": {
  "kernelspec": {
   "display_name": "Python 3",
   "language": "python",
   "name": "python3"
  },
  "language_info": {
   "codemirror_mode": {
    "name": "ipython",
    "version": 3
   },
   "file_extension": ".py",
   "mimetype": "text/x-python",
   "name": "python",
   "nbconvert_exporter": "python",
   "pygments_lexer": "ipython3",
   "version": "3.8.8"
  }
 },
 "nbformat": 4,
 "nbformat_minor": 5
}
