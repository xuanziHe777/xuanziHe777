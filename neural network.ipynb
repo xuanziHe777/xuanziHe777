{
 "cells": [
  {
   "cell_type": "markdown",
   "id": "cd3f6460",
   "metadata": {},
   "source": [
    "https://github.com/oreilly-japan/deep-learning-from-scratch-2/tree/master/ch01"
   ]
  },
  {
   "cell_type": "code",
   "execution_count": 1,
   "id": "349d1b8b",
   "metadata": {},
   "outputs": [],
   "source": [
    "import numpy as np"
   ]
  },
  {
   "cell_type": "code",
   "execution_count": 2,
   "id": "35a41e91",
   "metadata": {},
   "outputs": [],
   "source": [
    "def sigmoid(x):\n",
    "    return 1/(1+np.exp(-x))"
   ]
  },
  {
   "cell_type": "code",
   "execution_count": 3,
   "id": "ad10bc25",
   "metadata": {},
   "outputs": [],
   "source": [
    "def linear_combination(w, x, b):\n",
    "    return np.dot(x,w) +b"
   ]
  },
  {
   "cell_type": "code",
   "execution_count": 4,
   "id": "e8636d75",
   "metadata": {},
   "outputs": [],
   "source": [
    "def curr_layer(w, input_layer, bias):\n",
    "    not_activated = linear_combination(w, input_layer, bias)\n",
    "    res = sigmoid(not_activated)\n",
    "    return res"
   ]
  },
  {
   "cell_type": "code",
   "execution_count": 5,
   "id": "6ca26a51",
   "metadata": {},
   "outputs": [],
   "source": [
    "def derivative_sigmoid(output):\n",
    "    return output*(1-output)"
   ]
  },
  {
   "cell_type": "code",
   "execution_count": 7,
   "id": "58b0c40a",
   "metadata": {},
   "outputs": [],
   "source": [
    "## todo: change the following part as a function\n",
    "def forward_(input_, weight_layers, bias_layers):\n",
    "    layers = [input_]\n",
    "    for i in range(len(weight_layers)):\n",
    "        weight, bias = weight_layers[i], bias_layers[i]\n",
    "        prev_layer = layers[i]\n",
    "        curr_ = curr_layer(weight, prev_layer, bias)\n",
    "        layers += [curr_]\n",
    "        \n",
    "    #print([i.shape for i in layers])\n",
    "    return layers"
   ]
  },
  {
   "cell_type": "code",
   "execution_count": 8,
   "id": "474f6f26",
   "metadata": {},
   "outputs": [],
   "source": [
    "## derivative(C/w(L-1)) = d(z/w(L-1))*d(a/z)*d(C/a)\n",
    "## derivative(C/a(L-1)) = d(z/a(L-1))*d(a/z)*d(C/a)\n",
    "\n",
    "def derivative_all(layers, weight_layers, bias_layers, layer_no, ds):\n",
    "    # layer_no:: lower layer: L-1 \n",
    "    # return:: all variables: weight, bias and a\n",
    "    weight, bias = weight_layers[layer_no], bias_layers[layer_no]\n",
    "    layer, upper_ = layers[layer_no], layers[layer_no+1]\n",
    "     \n",
    "    ## weight update\n",
    "    d_zw = layer\n",
    "    d_az = derivative_sigmoid(upper_)\n",
    "    d_cw = np.dot(d_zw.T, d_az*ds)\n",
    "    updated_weight = weight - d_cw\n",
    "    \n",
    "    ## bias update\n",
    "    d_cb = d_az*ds\n",
    "    updated_bias = bias - d_cb\n",
    "    \n",
    "    ## activation update\n",
    "    # is the updated weight or the original one?\n",
    "    ds_lMinus1 = np.dot(d_az*ds, weight.T)\n",
    "    \n",
    "    return updated_weight, updated_bias, ds_lMinus1"
   ]
  },
  {
   "cell_type": "code",
   "execution_count": 9,
   "id": "b3aabd6f",
   "metadata": {},
   "outputs": [],
   "source": [
    "# todo: add rounds \n",
    "## starting back-propagation\n",
    "\n",
    "def backpropagation(layers, weight_layers, bias_layers, initial_d_ca):\n",
    "    layer_len_ = len(layers)-1\n",
    "    for i in reversed(range(layer_len_)):\n",
    "        updated_weight, updated_bias, d_ca_lMinus1 = derivative_all(layers, weight_layers, bias_layers, i, initial_d_ca)\n",
    "        weight_layers[i] = updated_weight\n",
    "        bias_layers[i] = updated_bias\n",
    "        initial_d_ca = d_ca_lMinus1\n",
    "        \n",
    "    return weight_layers, bias_layers"
   ]
  },
  {
   "cell_type": "code",
   "execution_count": null,
   "id": "2d9968f4",
   "metadata": {},
   "outputs": [],
   "source": []
  },
  {
   "cell_type": "code",
   "execution_count": 10,
   "id": "1620d04e",
   "metadata": {},
   "outputs": [],
   "source": [
    "## initialzation\n",
    "# 2 nodes input layer\n",
    "# 3 nodes hidden layer\n",
    "# 2 nodes output layers\n",
    "input_, weight0, bias0 = np.random.random(20).reshape(10,2), np.random.random(6).reshape(2,3), np.random.random(3)\n",
    "weight1, bias1 = np.random.random(6).reshape(3,2), np.random.random(2)\n",
    "\n",
    "## the expected y\n",
    "expected = np.random.randint(low=0, high = 2, size =2)\n",
    "weight_layers = [weight0, weight1]\n",
    "bias_layers = [bias0, bias1]"
   ]
  },
  {
   "cell_type": "code",
   "execution_count": 11,
   "id": "af9a5041",
   "metadata": {},
   "outputs": [],
   "source": [
    "d_ca = float('inf')\n",
    "while np.max(np.abs(d_ca))>0.001:\n",
    "    layers = forward_(input_, weight_layers, bias_layers)\n",
    "    output_layer = layers[-1]\n",
    "    d_ca = output_layer - expected\n",
    "    \n",
    "    # re-calculate the weight and bias\n",
    "    weight_layers, bias_layers = backpropagation(layers, weight_layers, bias_layers, d_ca)\n",
    "    "
   ]
  },
  {
   "cell_type": "code",
   "execution_count": null,
   "id": "69a98484",
   "metadata": {},
   "outputs": [],
   "source": [
    "### comfirming \n",
    "\n",
    "from keras.models import Sequential\n",
    "from keras.layers import Dense"
   ]
  },
  {
   "cell_type": "code",
   "execution_count": null,
   "id": "6fa447d8",
   "metadata": {},
   "outputs": [],
   "source": [
    "model = Sequential()\n",
    "model.add(Dense(10, input_dim=2, activation='relu'))\n",
    "model.add(Dense(3, activation='relu'))\n",
    "model.add(Dense(2, activation='sigmoid'))\n"
   ]
  },
  {
   "cell_type": "code",
   "execution_count": null,
   "id": "4e781aa6",
   "metadata": {},
   "outputs": [],
   "source": []
  }
 ],
 "metadata": {
  "kernelspec": {
   "display_name": "Python 3",
   "language": "python",
   "name": "python3"
  },
  "language_info": {
   "codemirror_mode": {
    "name": "ipython",
    "version": 3
   },
   "file_extension": ".py",
   "mimetype": "text/x-python",
   "name": "python",
   "nbconvert_exporter": "python",
   "pygments_lexer": "ipython3",
   "version": "3.8.8"
  }
 },
 "nbformat": 4,
 "nbformat_minor": 5
}
